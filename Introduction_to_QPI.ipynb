{
 "cells": [
  {
   "attachments": {},
   "cell_type": "markdown",
   "metadata": {},
   "source": [
    "# QPI\n",
    "## _Using Holo to better understand Quantum_\n",
    "\n",
    "\n",
    "Introduccion (Ana)\n",
    "\n",
    "Please feel free to watch the demo video :\n",
    "\n",
    "![video.png](misc/video.png)\n",
    "\n",
    "![dsasad](misc/down.png)\n",
    "\n",
    "\n",
    "QPi is an implementation of the Qiskit platform meant to facilitate learning by visualising the Qsphere from different views.\n",
    "\n",
    "To build a QPi you will need:\n",
    "\n",
    "- Raspberry Pi 4\n",
    "- Power Supply for the Raspberry Pi\n",
    "- Micro SD card with at least 8GB of storage\n",
    "- 5 inch screen (or bigger) [Like This one](https://es.aliexpress.com/item/4000285089550.html?spm=a2g0s.9042311.0.0.532063c0x1I59N)\n",
    "- Ready to use holo pyramid (or you can build your own)\n",
    "- [Optional] Raspberry Pi Battery Hat \n",
    "- [Optional] 3D printer \n",
    "- ✨Magic ✨\n",
    "\n",
    "## Features\n",
    "\n",
    "- Visualise QSphere in 3 dimentions (with 4 views)\n",
    "- Wifi Access point to allow you to use it in uknown territory (without internet connection)\n",
    "\n",
    "## Get Started \n",
    "You can get QPi in 2 different way\n",
    "\n",
    "- Download the ready to use image and write it in the SD \n",
    "- Follow the Tutorial to install it yourself\n",
    "\n",
    "## Assembly\n",
    "\n",
    "Zupa\n",
    "\n",
    "\n",
    "## Installation Tutorial \n",
    "\n",
    "Escribir un enlace hacia el Readme.md \n",
    "Jaime\n",
    "\n",
    "### Validación de la instalación \n",
    "Jaime\n",
    "\n",
    "## Qiskit with QPI"
   ]
  },
  {
   "cell_type": "markdown",
   "metadata": {},
   "source": [
    "![IMG](misc/pqiskit.png)"
   ]
  },
  {
   "cell_type": "code",
   "execution_count": null,
   "metadata": {},
   "outputs": [],
   "source": []
  }
 ],
 "metadata": {
  "kernelspec": {
   "display_name": "Python 3",
   "language": "python",
   "name": "python3"
  },
  "language_info": {
   "codemirror_mode": {
    "name": "ipython",
    "version": 3
   },
   "file_extension": ".py",
   "mimetype": "text/x-python",
   "name": "python",
   "nbconvert_exporter": "python",
   "pygments_lexer": "ipython3",
   "version": "3.8.3"
  }
 },
 "nbformat": 4,
 "nbformat_minor": 4
}

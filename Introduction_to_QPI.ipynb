{
 "cells": [
  {
   "cell_type": "markdown",
   "metadata": {},
   "source": [
    "# QPI\n",
    "## _Using Hologram proyection to better understand Quantum_\n",
    "\n",
    "\n",
    "QPi is an implementation of the Qiskit platform meant to facilitate learning by visualising the Qsphere from different views.\n",
    "\n",
    "Intro for teachers....\n",
    "\n",
    "Intro for students...\n",
    "\n",
    "\n",
    "Representación estimada el estado del sistema completo \n",
    "de la Qesphere (liga explicando la qSphere) limitado a \n",
    "\n",
    "Please feel free to watch the demo video : \n",
    "![video.png](misc/video.png)\n",
    "\n",
    "\n",
    "## Features\n",
    "\n",
    "- Visualise QSphere in 3 dimentions (with 4 views)\n",
    "- Run any Qiskit textbook and see the resulting Qsphere in 3 dimentions (with 4 views)\n",
    "- Wifi Access point to allow you to use it in uknown territory (without internet connection)\n",
    "\n",
    "# Get Started \n",
    "\n",
    "To build a QPi you will need:\n",
    "\n",
    "- Raspberry Pi 4\n",
    "- Power Supply for the Raspberry Pi\n",
    "- Micro SD card with at least 8GB of storage\n",
    "- 5 inch screen (or bigger) [Like This one](https://es.aliexpress.com/item/4000285089550.html?spm=a2g0s.9042311.0.0.532063c0x1I59N)\n",
    "- Ready to use holo pyramid (or you can build your own)\n",
    "- [Optional] Raspberry Pi Battery Hat \n",
    "- [Optional] 3D printer \n",
    "- ✨Magic ✨\n",
    "\n",
    "\n",
    "## Assembly\n",
    "\n",
    "Zouppa\n",
    "\n",
    "\n",
    "## Installation Tutorial \n",
    "\n",
    "You can get QPi in 2 different way\n",
    "\n",
    "- Download the ready to use image and write it in the SD \n",
    "- Follow the Tutorial to install it yourself\n",
    "\n",
    "La configuracion de la RaspberryPI e instalacion de las librerias se pueden realizar siguiendo [este manual](https://github.ibm.com/qpi/qpi)\n",
    "\n",
    "Cambiar imagen del dowload\n",
    "![dsasad](misc/down.png)\n",
    "\n",
    "\n",
    "### Validación de la instalación \n",
    "\n",
    "En caso de que instalaste con tutorial .....\n",
    "\n",
    "Para validar que las librerias esten instaladas correctamente ejecutar los siguientes comandos: \n",
    "\n",
    "\n",
    "    !pip list | grep qpi_lib\n",
    "    !pip list | grep warnings\n",
    "    !pip list | grep qiskit\n",
    "\n",
    "\n",
    "En caso de que usaste image ready to use ....\n",
    "Después de correr estos comando el resultado deberia ser el next:\n",
    "(incluir imagen de resultado - Chandelier)\n",
    "\n",
    "\n",
    "## Qiskit with QPI"
   ]
  },
  {
   "cell_type": "markdown",
   "metadata": {},
   "source": [
    "![IMG](misc/pqiskit.png)"
   ]
  },
  {
   "cell_type": "code",
   "execution_count": null,
   "metadata": {},
   "outputs": [],
   "source": []
  }
 ],
 "metadata": {
  "kernelspec": {
   "display_name": "Python 3",
   "language": "python",
   "name": "python3"
  },
  "language_info": {
   "codemirror_mode": {
    "name": "ipython",
    "version": 3
   },
   "file_extension": ".py",
   "mimetype": "text/x-python",
   "name": "python",
   "nbconvert_exporter": "python",
   "pygments_lexer": "ipython3",
   "version": "3.8.3"
  }
 },
 "nbformat": 4,
 "nbformat_minor": 4
}

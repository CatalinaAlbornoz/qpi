{
 "cells": [
  {
   "cell_type": "markdown",
   "metadata": {},
   "source": [
    "# QPI\n",
    "## _Using Hologram projection to better understand Quantum_\n",
    "\n",
    "\n",
    "QPi is an implementation of the Qiskit platform meant to facilitate learning.\n",
    "\n",
    "One of the challenges when learning quantum might be trying to understand how quantum circuits affect the state of a qubit or a collection of qubits. We can try to understand this by looking at the different estimated representations of the state of a system before and after making changes in the circuit.\n",
    "\n",
    "By this point the reader surely is familiarized with the state vectors. To facilitate the comparision described previously we are proposing the Q-sphere visualization in which each computational basis state is associated with a node on the surface of a sphere. Each node’s size is proportional to the probability of its basis state, whereas the node color indicates the quantum phase. For more information on the Qsphere and other types of visualization please refer to [Visualizations Doc](https://quantum-computing.ibm.com/composer/docs/iqx/visualizations)\n",
    "\n",
    "We like to think Qpi as an inexpensive, easy, and fun solution to visualize the hologram of the Q-sphere. We hope this encourages people to explore different experiments, enrich projects, and foster new ideas. Please feel free to watch the demo video: \n",
    "\n",
    "***Video del Qpi por 4 lados***\n",
    "![chandelier.gif](resources/chandelier.gif)\n",
    "\n",
    "## Features\n",
    "\n",
    "- Visualise QSphere in 3 dimentions (with 4 views)\n",
    "- Run any Qiskit textbook and see the resulting Qsphere in 3 dimentions (with 4 views)\n",
    "- Wifi Access point to allow you to use it in uknown territory (without internet connection)"
   ]
  },
  {
   "cell_type": "markdown",
   "metadata": {},
   "source": [
    "# Get Started \n",
    "\n",
    "To build a QPi you will need:\n",
    "\n",
    "- Raspberry Pi 4 or superior\n",
    "- Power Supply for the Raspberry Pi\n",
    "- Micro SD card with at least 8GB of storage\n",
    "- 5 inch screen (or bigger) [*Like This one*](https://es.aliexpress.com/item/4000285089550.html?spm=a2g0s.9042311.0.0.532063c0x1I59N)\n",
    "- Ready to use hologram pyramid (or you can build your own)\n",
    "- [Optional] Raspberry Pi Battery Hat \n",
    "- [Optional] 3D printer \n",
    "- ✨Magic ✨\n",
    "\n",
    "## Assembly\n",
    "\n",
    "Initial photo of components.\n",
    "\n",
    "Please find assembly video with instructions in the following link:\n",
    "\n",
    "\n",
    "## Installation Tutorial \n",
    "\n",
    "You can get QPi in 2 different ways:\n",
    "\n",
    "1. Directly write in your SD our ready to use image downloadable [here](https://ibm.box.com/s/7wqk71k596el0vqnyz97sdzhvf23deu4), or\n",
    "2. Manual installation. Follow our tutorial wich guides you step by step through RaspberryPI configuration and library installation. Please find oir tutotial at [QPi repository](https://github.ibm.com/qpi/qpi)\n",
    "\n",
    "### Validación de la instalación \n",
    "\n",
    "Before continue. We want to validate everything is working smothly, so we are going to validate the installation oaccording on the option you chose for the installation.\n",
    "\n",
    "In case you went for **Option 1** and downloaded our ready to use image:\n",
    "- Insert your SD card n the Raspberry \n",
    "- After initializing the RaspberyPi you should see the loading animation and then the following image of the Chandelier:\n",
    "\n",
    "![QPi-loader.gif](resources/QPi-loader.gif)\n",
    "\n",
    "In case you went for **Option 2** and used our tutorial:\n",
    "- Open a new jupyterNotebook\n",
    "- Execute the following commands\n",
    "\n",
    "       !pip list | grep qpi_lib\n",
    "       !pip list | grep warnings\n",
    "       !pip list | grep qiskit\n"
   ]
  },
  {
   "cell_type": "code",
   "execution_count": null,
   "metadata": {},
   "outputs": [],
   "source": []
  },
  {
   "cell_type": "code",
   "execution_count": null,
   "metadata": {},
   "outputs": [],
   "source": []
  }
 ],
 "metadata": {
  "anaconda-cloud": {},
  "kernelspec": {
   "display_name": "Python 3",
   "language": "python",
   "name": "python3"
  },
  "language_info": {
   "codemirror_mode": {
    "name": "ipython",
    "version": 3
   },
   "file_extension": ".py",
   "mimetype": "text/x-python",
   "name": "python",
   "nbconvert_exporter": "python",
   "pygments_lexer": "ipython3",
   "version": "3.8.8"
  },
  "varInspector": {
   "cols": {
    "lenName": 16,
    "lenType": 16,
    "lenVar": 40
   },
   "kernels_config": {
    "python": {
     "delete_cmd_postfix": "",
     "delete_cmd_prefix": "del ",
     "library": "var_list.py",
     "varRefreshCmd": "print(var_dic_list())"
    },
    "r": {
     "delete_cmd_postfix": ") ",
     "delete_cmd_prefix": "rm(",
     "library": "var_list.r",
     "varRefreshCmd": "cat(var_dic_list()) "
    }
   },
   "types_to_exclude": [
    "module",
    "function",
    "builtin_function_or_method",
    "instance",
    "_Feature"
   ],
   "window_display": false
  }
 },
 "nbformat": 4,
 "nbformat_minor": 1
}

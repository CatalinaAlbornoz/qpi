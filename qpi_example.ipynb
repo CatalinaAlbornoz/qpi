{
 "cells": [
  {
   "cell_type": "code",
   "execution_count": null,
   "metadata": {},
   "outputs": [],
   "source": [
    "import qpi_lib\n",
    "import warnings\n",
    "from qpi_lib import qsphere_funcs\n",
    "from qiskit import QuantumCircuit\n",
    "warnings.filterwarnings('ignore')\n"
   ]
  },
  {
   "cell_type": "code",
   "execution_count": null,
   "metadata": {
    "scrolled": true
   },
   "outputs": [],
   "source": [
    "qc = QuantumCircuit(3)\n",
    "# Apply H-gate to the first:\n",
    "qc.x(0)\n",
    "qc.x(1)\n",
    "qc.h(0)\n",
    "# Apply a CNOT:\n",
    "qc.cx(0,1)\n",
    "qc.cx(0,2)\n",
    "qc.z(0)\n",
    "qc.z(1)\n",
    "\n",
    "qc.draw(output='mpl')\n"
   ]
  },
  {
   "cell_type": "code",
   "execution_count": null,
   "metadata": {},
   "outputs": [],
   "source": [
    "qsphere_funcs.plot_qsphere_full(qc)"
   ]
  },
  {
   "cell_type": "code",
   "execution_count": null,
   "metadata": {},
   "outputs": [],
   "source": [
    "qc = QuantumCircuit(3)\n",
    "# Apply H-gate to the first:\n",
    "qc.h(1)\n",
    "qc.x(0)\n",
    "\n",
    "# Apply a CNOT:\n",
    "qc.cx(0,1)\n",
    "qc.cx(0,2)\n",
    "\n",
    "qc.z(0)\n",
    "qc.z(1)\n",
    "\n",
    "qc.draw(output='mpl')"
   ]
  },
  {
   "cell_type": "code",
   "execution_count": null,
   "metadata": {},
   "outputs": [],
   "source": [
    "qsphere_funcs.plot_qsphere_full(qc)"
   ]
  },
  {
   "cell_type": "code",
   "execution_count": null,
   "metadata": {},
   "outputs": [],
   "source": [
    "qc = QuantumCircuit(3)\n",
    "# Apply H-gate to the first:\n",
    "qc.x(0)\n",
    "#qc.x(1)\n",
    "qc.h(0)\n",
    "# Apply a CNOT:\n",
    "qc.cx(0,1)\n",
    "qc.cx(0,2)\n",
    "qc.z(0)\n",
    "qc.z(1)\n",
    "\n",
    "qc.draw(output='mpl')"
   ]
  },
  {
   "cell_type": "code",
   "execution_count": null,
   "metadata": {},
   "outputs": [],
   "source": [
    "qsphere_funcs.plot_qsphere_full(qc)"
   ]
  },
  {
   "cell_type": "code",
   "execution_count": null,
   "metadata": {},
   "outputs": [],
   "source": [
    "qc = QuantumCircuit(3)\n",
    "# Apply H-gate to the first:\n",
    "qc.h(0)\n",
    "qc.h(2)\n",
    "qc.h(1)\n",
    "# Apply a CNOT:\n",
    "qc.cx(0,1)\n",
    "qc.cx(1,2)\n",
    "qc.cx(0,2)\n",
    "qc.z(0)\n",
    "\n",
    "qc.draw(output='mpl')"
   ]
  },
  {
   "cell_type": "code",
   "execution_count": null,
   "metadata": {},
   "outputs": [],
   "source": [
    "qsphere_funcs.plot_qsphere_full(qc)"
   ]
  }
 ],
 "metadata": {
  "kernelspec": {
   "display_name": "Python 3",
   "language": "python",
   "name": "python3"
  },
  "language_info": {
   "codemirror_mode": {
    "name": "ipython",
    "version": 3
   },
   "file_extension": ".py",
   "mimetype": "text/x-python",
   "name": "python",
   "nbconvert_exporter": "python",
   "pygments_lexer": "ipython3",
   "version": "3.7.3"
  }
 },
 "nbformat": 4,
 "nbformat_minor": 4
}
